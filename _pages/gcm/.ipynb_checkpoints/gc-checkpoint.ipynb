{
 "cells": [
  {
   "cell_type": "code",
   "execution_count": 1,
   "id": "eastern-asian",
   "metadata": {},
   "outputs": [
    {
     "name": "stderr",
     "output_type": "stream",
     "text": [
      "\n",
      "Attaching package: ‘dplyr’\n",
      "\n",
      "\n",
      "The following objects are masked from ‘package:stats’:\n",
      "\n",
      "    filter, lag\n",
      "\n",
      "\n",
      "The following objects are masked from ‘package:base’:\n",
      "\n",
      "    intersect, setdiff, setequal, union\n",
      "\n",
      "\n"
     ]
    }
   ],
   "source": [
    "library(dplyr)\n",
    "library(reticulate)\n",
    "\n",
    "gc.mon <- function(query) {\n",
    "  writeLines(query, 'query.txt')\n",
    "  source_python('main.py')\n",
    "  gc <- read.csv('tmp.csv')\n",
    "  colnames(gc)\n",
    "  tab <- gc %>%\n",
    "    filter(stringr::str_detect(과정, 'PhD') &\n",
    "             !stringr::str_detect(결과, 'Other')) %>%\n",
    "    mutate(on = strptime(on, '%d %b %Y'),\n",
    "           게시날짜 = strptime(게시날짜, '%d %b %Y'),) %>%\n",
    "    arrange(desc(on))\n",
    "  return(tab)\n",
    "}"
   ]
  },
  {
   "cell_type": "code",
   "execution_count": null,
   "id": "heated-coating",
   "metadata": {},
   "outputs": [],
   "source": [
    "gc.mon('michigan state prob*')"
   ]
  },
  {
   "cell_type": "code",
   "execution_count": null,
   "id": "seeing-allocation",
   "metadata": {},
   "outputs": [],
   "source": []
  }
 ],
 "metadata": {
  "kernelspec": {
   "display_name": "r for nlp",
   "language": "R",
   "name": "nlp-r"
  },
  "language_info": {
   "codemirror_mode": "r",
   "file_extension": ".r",
   "mimetype": "text/x-r-source",
   "name": "R",
   "pygments_lexer": "r",
   "version": "4.0.3"
  }
 },
 "nbformat": 4,
 "nbformat_minor": 5
}
