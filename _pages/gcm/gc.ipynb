{
 "cells": [
  {
   "cell_type": "code",
   "execution_count": 1,
   "id": "greatest-dealing",
   "metadata": {},
   "outputs": [
    {
     "name": "stderr",
     "output_type": "stream",
     "text": [
      "\n",
      "Attaching package: ‘dplyr’\n",
      "\n",
      "\n",
      "The following objects are masked from ‘package:stats’:\n",
      "\n",
      "    filter, lag\n",
      "\n",
      "\n",
      "The following objects are masked from ‘package:base’:\n",
      "\n",
      "    intersect, setdiff, setequal, union\n",
      "\n",
      "\n"
     ]
    }
   ],
   "source": [
    "library(dplyr)\n",
    "library(reticulate)\n",
    "\n",
    "gc.mon <- function(query) {\n",
    "  writeLines(query, 'query.txt')\n",
    "  source_python('main.py')\n",
    "  gc <- read.csv('tmp.csv')\n",
    "  colnames(gc)\n",
    "  tab <- gc %>%\n",
    "    filter(stringr::str_detect(과정, 'PhD') &\n",
    "             !stringr::str_detect(결과, 'Other')) %>%\n",
    "    mutate(on = strptime(on, '%d %b %Y'),\n",
    "           게시날짜 = strptime(게시날짜, '%d %b %Y'),) %>%\n",
    "    arrange(desc(on))\n",
    "  return(tab)\n",
    "}"
   ]
  },
  {
   "cell_type": "code",
   "execution_count": 5,
   "id": "alike-burton",
   "metadata": {},
   "outputs": [
    {
     "data": {
      "text/html": [
       "<table class=\"dataframe\">\n",
       "<caption>A data.frame: 3 × 9</caption>\n",
       "<thead>\n",
       "\t<tr><th scope=col>X</th><th scope=col>학교</th><th scope=col>과정</th><th scope=col>결과</th><th scope=col>via</th><th scope=col>on</th><th scope=col>출신</th><th scope=col>게시날짜</th><th scope=col>코멘트</th></tr>\n",
       "\t<tr><th scope=col>&lt;int&gt;</th><th scope=col>&lt;chr&gt;</th><th scope=col>&lt;chr&gt;</th><th scope=col>&lt;chr&gt;</th><th scope=col>&lt;chr&gt;</th><th scope=col>&lt;dttm&gt;</th><th scope=col>&lt;chr&gt;</th><th scope=col>&lt;dttm&gt;</th><th scope=col>&lt;chr&gt;</th></tr>\n",
       "</thead>\n",
       "<tbody>\n",
       "\t<tr><td>0</td><td>Michigan State  University (MSU)</td><td>Probability, PhD (F17)                       </td><td>Accepted </td><td>E-mail</td><td>2017-03-14</td><td>U</td><td>2017-03-20</td><td>Had an interview with a professor about an week ago. Accepted with full funding.</td></tr>\n",
       "\t<tr><td>1</td><td>Michigan State University       </td><td>Statistics And Probability, PhD (F15)        </td><td>Interview</td><td>E-mail</td><td>2015-02-28</td><td>A</td><td>2015-02-28</td><td>                                                                                </td></tr>\n",
       "\t<tr><td>2</td><td>Michigan State University (MSU) </td><td>Applied Probability And Statistics, PhD (F12)</td><td>Rejected </td><td>E-mail</td><td>2012-03-10</td><td>I</td><td>2012-03-12</td><td>                                                                                </td></tr>\n",
       "</tbody>\n",
       "</table>\n"
      ],
      "text/latex": [
       "A data.frame: 3 × 9\n",
       "\\begin{tabular}{lllllllll}\n",
       " X & 학교 & 과정 & 결과 & via & on & 출신 & 게시날짜 & 코멘트\\\\\n",
       " <int> & <chr> & <chr> & <chr> & <chr> & <dttm> & <chr> & <dttm> & <chr>\\\\\n",
       "\\hline\n",
       "\t 0 & Michigan State  University (MSU) & Probability, PhD (F17)                        & Accepted  & E-mail & 2017-03-14 & U & 2017-03-20 & Had an interview with a professor about an week ago. Accepted with full funding.\\\\\n",
       "\t 1 & Michigan State University        & Statistics And Probability, PhD (F15)         & Interview & E-mail & 2015-02-28 & A & 2015-02-28 &                                                                                 \\\\\n",
       "\t 2 & Michigan State University (MSU)  & Applied Probability And Statistics, PhD (F12) & Rejected  & E-mail & 2012-03-10 & I & 2012-03-12 &                                                                                 \\\\\n",
       "\\end{tabular}\n"
      ],
      "text/markdown": [
       "\n",
       "A data.frame: 3 × 9\n",
       "\n",
       "| X &lt;int&gt; | 학교 &lt;chr&gt; | 과정 &lt;chr&gt; | 결과 &lt;chr&gt; | via &lt;chr&gt; | on &lt;dttm&gt; | 출신 &lt;chr&gt; | 게시날짜 &lt;dttm&gt; | 코멘트 &lt;chr&gt; |\n",
       "|---|---|---|---|---|---|---|---|---|\n",
       "| 0 | Michigan State  University (MSU) | Probability, PhD (F17)                        | Accepted  | E-mail | 2017-03-14 | U | 2017-03-20 | Had an interview with a professor about an week ago. Accepted with full funding. |\n",
       "| 1 | Michigan State University        | Statistics And Probability, PhD (F15)         | Interview | E-mail | 2015-02-28 | A | 2015-02-28 | <!----> |\n",
       "| 2 | Michigan State University (MSU)  | Applied Probability And Statistics, PhD (F12) | Rejected  | E-mail | 2012-03-10 | I | 2012-03-12 | <!----> |\n",
       "\n"
      ],
      "text/plain": [
       "  X 학교                            \n",
       "1 0 Michigan State  University (MSU)\n",
       "2 1 Michigan State University       \n",
       "3 2 Michigan State University (MSU) \n",
       "  과정                                          결과      via    on        \n",
       "1 Probability, PhD (F17)                        Accepted  E-mail 2017-03-14\n",
       "2 Statistics And Probability, PhD (F15)         Interview E-mail 2015-02-28\n",
       "3 Applied Probability And Statistics, PhD (F12) Rejected  E-mail 2012-03-10\n",
       "  출신 게시날짜  \n",
       "1 U    2017-03-20\n",
       "2 A    2015-02-28\n",
       "3 I    2012-03-12\n",
       "  코멘트                                                                          \n",
       "1 Had an interview with a professor about an week ago. Accepted with full funding.\n",
       "2                                                                                 \n",
       "3                                                                                 "
      ]
     },
     "metadata": {},
     "output_type": "display_data"
    }
   ],
   "source": [
    "gc.mon('michigan state prob*')"
   ]
  },
  {
   "cell_type": "code",
   "execution_count": null,
   "id": "devoted-herald",
   "metadata": {},
   "outputs": [],
   "source": []
  }
 ],
 "metadata": {
  "kernelspec": {
   "display_name": "r for nlp",
   "language": "R",
   "name": "nlp-r"
  },
  "language_info": {
   "codemirror_mode": "r",
   "file_extension": ".r",
   "mimetype": "text/x-r-source",
   "name": "R",
   "pygments_lexer": "r",
   "version": "4.0.3"
  }
 },
 "nbformat": 4,
 "nbformat_minor": 5
}
