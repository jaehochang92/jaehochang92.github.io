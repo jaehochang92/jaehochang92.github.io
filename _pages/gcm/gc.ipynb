{
 "cells": [
  {
   "cell_type": "code",
   "execution_count": null,
   "id": "filled-quantum",
   "metadata": {},
   "outputs": [],
   "source": [
    "library(dplyr)\n",
    "library(ggplot2)\n",
    "library(lubridate)\n",
    "library(reticulate)\n",
    "library(extrafont)\n",
    "\n",
    "gc.mon <- function(query, prgrm = 'PhD') {\n",
    "  writeLines(query, 'query.txt')\n",
    "  source_python('main.py')\n",
    "  gc <- read.csv('tmp.csv')\n",
    "  colnames(gc)\n",
    "  tab <- gc %>%\n",
    "    filter(stringr::str_detect(과정, prgrm) &\n",
    "             stringr::str_detect(결과, 'Accepted|Rejected|Wait listed')) %>%\n",
    "    mutate(on = strptime(on, '%d %b %Y') %>% ymd,\n",
    "           게시날짜 = strptime(게시날짜, '%d %b %Y') %>% ymd) %>%\n",
    "    arrange(desc(on))\n",
    "  return(tab)\n",
    "}\n",
    "\n",
    "(df <- gc.mon('duke biostat*'))\n",
    "\n",
    "suppressWarnings({\n",
    "    df %>% group_by(결과, on) %>% summarise(cnt = n()) %>%\n",
    "  ggplot(aes(x = on, y = cnt, col = 결과)) + \n",
    "  geom_point() + scale_x_date(date_labels = \"%b-%d-%Y\") + \n",
    "  theme_minimal(base_family = 'AppleGothic')\n",
    "               })"
   ]
  }
 ],
 "metadata": {
  "kernelspec": {
   "display_name": "r for nlp",
   "language": "R",
   "name": "nlp-r"
  },
  "language_info": {
   "codemirror_mode": "r",
   "file_extension": ".r",
   "mimetype": "text/x-r-source",
   "name": "R",
   "pygments_lexer": "r",
   "version": "4.0.3"
  }
 },
 "nbformat": 4,
 "nbformat_minor": 5
}
